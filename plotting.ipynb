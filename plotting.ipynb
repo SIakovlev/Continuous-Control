{
 "cells": [
  {
   "cell_type": "code",
   "execution_count": 27,
   "metadata": {
    "ExecuteTime": {
     "end_time": "2018-11-21T06:17:34.631680Z",
     "start_time": "2018-11-21T06:17:34.623671Z"
    }
   },
   "outputs": [],
   "source": [
    "%matplotlib widget\n",
    "import numpy as np\n",
    "import ipympl\n",
    "import collections\n",
    "import matplotlib.pyplot as plt"
   ]
  },
  {
   "cell_type": "code",
   "execution_count": 29,
   "metadata": {
    "ExecuteTime": {
     "end_time": "2018-11-21T06:19:20.231178Z",
     "start_time": "2018-11-21T06:19:20.222795Z"
    }
   },
   "outputs": [],
   "source": [
    "rewards = np.load('./results/episode_rewards_2018-11-21_13-40.dat')\n",
    "avg_episode_reward = np.mean(rewards, axis=1)\n",
    "window = collections.deque(maxlen=100)\n",
    "avg_reward_over_100 = []\n",
    "for i in range(avg_episode_reward.shape[0]):\n",
    "    window.append(avg_episode_reward[i])\n",
    "    avg_reward_over_100.append(np.mean(window))"
   ]
  },
  {
   "cell_type": "code",
   "execution_count": 31,
   "metadata": {
    "ExecuteTime": {
     "end_time": "2018-11-22T05:48:24.442351Z",
     "start_time": "2018-11-22T05:48:24.300460Z"
    }
   },
   "outputs": [
    {
     "data": {
      "text/plain": [
       "FigureCanvasNbAgg()"
      ]
     },
     "metadata": {},
     "output_type": "display_data"
    }
   ],
   "source": [
    "plt.figure(figsize=(10, 5))\n",
    "plt.plot(avg_episode_reward, 'b:')\n",
    "#plt.plot(avg_reward_over_100, 'b')\n",
    "plt.plot(30*np.ones((200, )), 'k', linewidth=1.0)\n",
    "plt.ylim([0, 40])\n",
    "plt.xlim([0, 200])\n",
    "plt.rc('grid', linestyle=\":\", color='black')\n",
    "plt.grid(True)\n",
    "plt.legend([\"DDPG\"])\n",
    "plt.savefig('reward.png')\n",
    "plt.show()"
   ]
  }
 ],
 "metadata": {
  "kernelspec": {
   "display_name": "drlnd",
   "language": "python",
   "name": "drlnd"
  },
  "language_info": {
   "codemirror_mode": {
    "name": "ipython",
    "version": 3
   },
   "file_extension": ".py",
   "mimetype": "text/x-python",
   "name": "python",
   "nbconvert_exporter": "python",
   "pygments_lexer": "ipython3",
   "version": "3.6.6"
  }
 },
 "nbformat": 4,
 "nbformat_minor": 2
}
